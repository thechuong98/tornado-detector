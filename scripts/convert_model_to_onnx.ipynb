{
 "cells": [
  {
   "cell_type": "code",
   "execution_count": 11,
   "metadata": {},
   "outputs": [],
   "source": [
    "\n",
    "import os\n",
    "import sys\n",
    "\n",
    "project_root = \"/Users/thechuongchu/Desktop/SCOPIC/Tornet_services/\"\n",
    "sys.path.append(project_root)\n"
   ]
  },
  {
   "cell_type": "code",
   "execution_count": 30,
   "metadata": {},
   "outputs": [
    {
     "name": "stderr",
     "output_type": "stream",
     "text": [
      "/var/folders/h7/f7qx4yhs1qg76t3j70vf441c0000gn/T/ipykernel_71973/103339836.py:17: FutureWarning: You are using `torch.load` with `weights_only=False` (the current default value), which uses the default pickle module implicitly. It is possible to construct malicious pickle data which will execute arbitrary code during unpickling (See https://github.com/pytorch/pytorch/blob/main/SECURITY.md#untrusted-models for more details). In a future release, the default value for `weights_only` will be flipped to `True`. This limits the functions that could be executed during unpickling. Arbitrary objects will no longer be allowed to be loaded via this mode unless they are explicitly allowlisted by the user via `torch.serialization.add_safe_globals`. We recommend you start setting `weights_only=True` for any use case where you don't have full control of the loaded file. Please open an issue on GitHub for any issues related to this experimental feature.\n",
      "  state_dict = torch.load(model_path)\n"
     ]
    },
    {
     "data": {
      "text/plain": [
       "TornadoLikelihood(\n",
       "  (blk1): VggBlock(\n",
       "    (conv_block): Sequential(\n",
       "      (0): CoordConv2D(\n",
       "        (conv): Conv2d(16, 48, kernel_size=(3, 3), stride=(1, 1), padding=same)\n",
       "        (conv_activation): ReLU()\n",
       "      )\n",
       "      (1): CoordConv2D(\n",
       "        (conv): Conv2d(50, 48, kernel_size=(3, 3), stride=(1, 1), padding=same)\n",
       "        (conv_activation): ReLU()\n",
       "      )\n",
       "    )\n",
       "    (mx): MaxPool2d(kernel_size=2, stride=2, padding=0, dilation=1, ceil_mode=False)\n",
       "    (mc): MaxPool2d(kernel_size=2, stride=2, padding=0, dilation=1, ceil_mode=False)\n",
       "    (drop): Dropout(p=0.1, inplace=False)\n",
       "  )\n",
       "  (blk2): VggBlock(\n",
       "    (conv_block): Sequential(\n",
       "      (0): CoordConv2D(\n",
       "        (conv): Conv2d(50, 96, kernel_size=(3, 3), stride=(1, 1), padding=same)\n",
       "        (conv_activation): ReLU()\n",
       "      )\n",
       "      (1): CoordConv2D(\n",
       "        (conv): Conv2d(98, 96, kernel_size=(3, 3), stride=(1, 1), padding=same)\n",
       "        (conv_activation): ReLU()\n",
       "      )\n",
       "    )\n",
       "    (mx): MaxPool2d(kernel_size=2, stride=2, padding=0, dilation=1, ceil_mode=False)\n",
       "    (mc): MaxPool2d(kernel_size=2, stride=2, padding=0, dilation=1, ceil_mode=False)\n",
       "    (drop): Dropout(p=0.1, inplace=False)\n",
       "  )\n",
       "  (blk3): VggBlock(\n",
       "    (conv_block): Sequential(\n",
       "      (0): CoordConv2D(\n",
       "        (conv): Conv2d(98, 192, kernel_size=(3, 3), stride=(1, 1), padding=same)\n",
       "        (conv_activation): ReLU()\n",
       "      )\n",
       "      (1): CoordConv2D(\n",
       "        (conv): Conv2d(194, 192, kernel_size=(3, 3), stride=(1, 1), padding=same)\n",
       "        (conv_activation): ReLU()\n",
       "      )\n",
       "      (2): CoordConv2D(\n",
       "        (conv): Conv2d(194, 192, kernel_size=(3, 3), stride=(1, 1), padding=same)\n",
       "        (conv_activation): ReLU()\n",
       "      )\n",
       "    )\n",
       "    (mx): MaxPool2d(kernel_size=2, stride=2, padding=0, dilation=1, ceil_mode=False)\n",
       "    (mc): MaxPool2d(kernel_size=2, stride=2, padding=0, dilation=1, ceil_mode=False)\n",
       "    (drop): Dropout(p=0.1, inplace=False)\n",
       "  )\n",
       "  (blk4): VggBlock(\n",
       "    (conv_block): Sequential(\n",
       "      (0): CoordConv2D(\n",
       "        (conv): Conv2d(194, 384, kernel_size=(3, 3), stride=(1, 1), padding=same)\n",
       "        (conv_activation): ReLU()\n",
       "      )\n",
       "      (1): CoordConv2D(\n",
       "        (conv): Conv2d(386, 384, kernel_size=(3, 3), stride=(1, 1), padding=same)\n",
       "        (conv_activation): ReLU()\n",
       "      )\n",
       "      (2): CoordConv2D(\n",
       "        (conv): Conv2d(386, 384, kernel_size=(3, 3), stride=(1, 1), padding=same)\n",
       "        (conv_activation): ReLU()\n",
       "      )\n",
       "    )\n",
       "    (mx): MaxPool2d(kernel_size=2, stride=2, padding=0, dilation=1, ceil_mode=False)\n",
       "    (mc): MaxPool2d(kernel_size=2, stride=2, padding=0, dilation=1, ceil_mode=False)\n",
       "    (drop): Dropout(p=0.1, inplace=False)\n",
       "  )\n",
       "  (head): Sequential(\n",
       "    (0): Conv2d(384, 512, kernel_size=(1, 1), stride=(1, 1))\n",
       "    (1): ReLU()\n",
       "    (2): Conv2d(512, 256, kernel_size=(1, 1), stride=(1, 1))\n",
       "    (3): ReLU()\n",
       "  )\n",
       "  (conv_out): Conv2d(256, 1, kernel_size=(1, 1), stride=(1, 1))\n",
       ")"
      ]
     },
     "execution_count": 30,
     "metadata": {},
     "output_type": "execute_result"
    }
   ],
   "source": [
    "\n",
    "from src.model import TornadoLikelihood\n",
    "import torch\n",
    "model = TornadoLikelihood(\n",
    "            shape=(2, 720, 1152),\n",
    "            c_shape=(2, 720, 1152),\n",
    "            input_variables=['DBZ',\n",
    "                'VEL', \n",
    "                'KDP',\n",
    "                'RHOHV',\n",
    "                'ZDR',\n",
    "                'WIDTH'],\n",
    "            start_filters=48,\n",
    "            background_flag=-3.0,\n",
    "            include_range_folded=True\n",
    "    )\n",
    "model_path = \"../model_checkpoint/tornet.pth\"\n",
    "state_dict = torch.load(model_path)\n",
    "model.load_state_dict(state_dict)\n",
    "model.eval()"
   ]
  },
  {
   "cell_type": "code",
   "execution_count": 37,
   "metadata": {},
   "outputs": [],
   "source": [
    "import numpy as np\n",
    "\n",
    "# Example batch size\n",
    "batch_size = 1\n",
    "az, rng = 720, 1152  # Matching input shape\n",
    "\n",
    "# Create dummy radar data with the correct shape\n",
    "dummy_data = {\n",
    "    v: torch.randn(batch_size, 2, az, rng) for v in model.input_variables\n",
    "}\n",
    "dummy_data[\"coordinates\"] = torch.randn(batch_size, 2, az, rng)\n",
    "\n",
    "# Add range_folded_mask if used\n",
    "if model.include_range_folded:\n",
    "    dummy_data[\"range_folded_mask\"] = torch.randn(batch_size, 2, az, rng)"
   ]
  },
  {
   "cell_type": "code",
   "execution_count": 32,
   "metadata": {},
   "outputs": [],
   "source": [
    "class ONNXWrapper(torch.nn.Module):\n",
    "    def __init__(self, model):\n",
    "        super().__init__()\n",
    "        self.model = model\n",
    "    \n",
    "    def forward(self, *args):\n",
    "        # Convert list of args back to dictionary\n",
    "        keys = self.model.input_variables + [\"coordinates\"]\n",
    "        if self.model.include_range_folded:\n",
    "            keys.append(\"range_folded_mask\")\n",
    "\n",
    "        data_dict = {k: v for k, v in zip(keys, args)}\n",
    "        return self.model(data_dict)\n"
   ]
  },
  {
   "cell_type": "code",
   "execution_count": 33,
   "metadata": {},
   "outputs": [],
   "source": [
    "onnx_model = ONNXWrapper(model)\n"
   ]
  },
  {
   "cell_type": "code",
   "execution_count": 20,
   "metadata": {},
   "outputs": [
    {
     "name": "stdout",
     "output_type": "stream",
     "text": [
      "Model successfully converted to ONNX!\n"
     ]
    }
   ],
   "source": [
    "dummy_input_tuple = tuple(dummy_data[k] for k in dummy_data.keys())\n",
    "\n",
    "# Export to ONNX\n",
    "torch.onnx.export(\n",
    "    onnx_model, \n",
    "    dummy_input_tuple, \n",
    "    \"tornado_likelihood.onnx\", \n",
    "    export_params=True,  # Store trained parameters\n",
    "    opset_version=12,    # ONNX opset version\n",
    "    do_constant_folding=True,  # Optimize constants\n",
    "    input_names=list(dummy_data.keys()), \n",
    "    output_names=['likelihood_map']\n",
    ")\n",
    "\n",
    "print(\"Model successfully converted to ONNX!\")\n"
   ]
  },
  {
   "cell_type": "code",
   "execution_count": 39,
   "metadata": {},
   "outputs": [],
   "source": [
    "import onnx\n",
    "\n",
    "onnx_model = onnx.load(\"tornado_likelihood.onnx\")\n",
    "onnx.checker.check_model(onnx_model)\n"
   ]
  },
  {
   "cell_type": "code",
   "execution_count": 47,
   "metadata": {},
   "outputs": [
    {
     "data": {
      "text/plain": [
       "torch.Size([1, 2, 720, 1152])"
      ]
     },
     "execution_count": 47,
     "metadata": {},
     "output_type": "execute_result"
    }
   ],
   "source": [
    "dummy_data['VEL'].shape"
   ]
  },
  {
   "cell_type": "code",
   "execution_count": 43,
   "metadata": {},
   "outputs": [
    {
     "name": "stdout",
     "output_type": "stream",
     "text": [
      "PyTorch output shape: torch.Size([1, 1, 45, 72])\n",
      "ONNX output shape: (1, 1, 45, 72)\n",
      "\n",
      "Max absolute difference: 1.9073486e-05\n",
      "Mean absolute difference: 2.3238454e-06\n"
     ]
    }
   ],
   "source": [
    "import onnxruntime\n",
    "import numpy as np\n",
    "\n",
    "# Create random input data with correct shapes\n",
    "random_input = {}\n",
    "for k, v in dummy_data.items():\n",
    "    random_input[k] = np.random.randn(*v.shape).astype(np.float32)\n",
    "\n",
    "# Run inference with PyTorch model\n",
    "torch_inputs = {k: torch.from_numpy(v) for k, v in random_input.items()}\n",
    "with torch.no_grad():\n",
    "    torch_output = model(torch_inputs)  # Ensure inputs are tensors for the PyTorch model\n",
    "    \n",
    "# Run inference with ONNX model\n",
    "ort_session = onnxruntime.InferenceSession(\"tornado_likelihood.onnx\")\n",
    "ort_inputs = {k.name: random_input[k.name] for k in ort_session.get_inputs()}\n",
    "ort_output = ort_session.run(None, ort_inputs)[0]\n",
    "\n",
    "print(\"PyTorch output shape:\", torch_output.shape)\n",
    "print(\"ONNX output shape:\", ort_output.shape)\n",
    "\n",
    "# Compare outputs\n",
    "torch_output_np = torch_output.numpy() if isinstance(torch_output, torch.Tensor) else torch_output\n",
    "print(\"\\nMax absolute difference:\", np.abs(torch_output_np - ort_output).max())\n",
    "print(\"Mean absolute difference:\", np.abs(torch_output_np - ort_output).mean())\n"
   ]
  },
  {
   "cell_type": "code",
   "execution_count": null,
   "metadata": {},
   "outputs": [],
   "source": []
  }
 ],
 "metadata": {
  "kernelspec": {
   "display_name": "tornet",
   "language": "python",
   "name": "tornet"
  },
  "language_info": {
   "codemirror_mode": {
    "name": "ipython",
    "version": 3
   },
   "file_extension": ".py",
   "mimetype": "text/x-python",
   "name": "python",
   "nbconvert_exporter": "python",
   "pygments_lexer": "ipython3",
   "version": "3.9.6"
  }
 },
 "nbformat": 4,
 "nbformat_minor": 2
}
